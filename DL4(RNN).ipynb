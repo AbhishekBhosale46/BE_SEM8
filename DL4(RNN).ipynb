{
  "nbformat": 4,
  "nbformat_minor": 0,
  "metadata": {
    "colab": {
      "provenance": []
    },
    "kernelspec": {
      "name": "python3",
      "display_name": "Python 3"
    },
    "language_info": {
      "name": "python"
    }
  },
  "cells": [
    {
      "cell_type": "code",
      "execution_count": null,
      "metadata": {
        "id": "FImVsTFYKCb5"
      },
      "outputs": [],
      "source": [
        "import numpy as np\n",
        "import pandas as pd\n",
        "import matplotlib.pyplot as plt\n",
        "from sklearn.preprocessing import MinMaxScaler\n",
        "from tensorflow.keras.models import Sequential\n",
        "from tensorflow.keras.layers import Dense, LSTM, Input"
      ]
    },
    {
      "cell_type": "code",
      "source": [
        "df = pd.read_csv('/content/drive/MyDrive/DL_Datasets/Assignment_4/goog.csv')\n",
        "df.head()"
      ],
      "metadata": {
        "id": "NYxGxi5K7pOg"
      },
      "execution_count": null,
      "outputs": []
    },
    {
      "cell_type": "code",
      "source": [
        "df['Date'] = pd.to_datetime(df['Date'])\n",
        "df.set_index('Date', inplace=True)"
      ],
      "metadata": {
        "id": "Ils-cksi8SLN"
      },
      "execution_count": null,
      "outputs": []
    },
    {
      "cell_type": "code",
      "source": [
        "plt.plot(df['Close'])\n",
        "plt.show()"
      ],
      "metadata": {
        "id": "RRZj9wHr8qnQ"
      },
      "execution_count": null,
      "outputs": []
    },
    {
      "cell_type": "code",
      "source": [
        "scaler = MinMaxScaler()\n",
        "scaled_data = scaler.fit_transform(df[['Open', 'High', 'Low', 'Close', 'Volume']])"
      ],
      "metadata": {
        "id": "G7SU7WAH83Ms"
      },
      "execution_count": null,
      "outputs": []
    },
    {
      "cell_type": "code",
      "source": [
        "def create_sequences(data, target_index=3, seq_len=10):\n",
        "    X, y = [], []\n",
        "    for i in range(seq_len, len(data)):\n",
        "        X.append(data[i - seq_len:i])\n",
        "        y.append(data[i, target_index])\n",
        "    return np.array(X), np.array(y)"
      ],
      "metadata": {
        "id": "o42Y-3QR93-N"
      },
      "execution_count": null,
      "outputs": []
    },
    {
      "cell_type": "code",
      "source": [
        "X, y = create_sequences(scaled_data)"
      ],
      "metadata": {
        "id": "F5mdVONR-AzN"
      },
      "execution_count": null,
      "outputs": []
    },
    {
      "cell_type": "code",
      "source": [
        "split = int(0.8 * len(X))\n",
        "X_train, y_train = X[:split], y[:split]\n",
        "X_test, y_test = X[split:], y[split:]"
      ],
      "metadata": {
        "id": "RR5vMQ3g-dwn"
      },
      "execution_count": null,
      "outputs": []
    },
    {
      "cell_type": "code",
      "source": [
        "input_shape = (10, 5)"
      ],
      "metadata": {
        "id": "2WS7Wydt-3Zx"
      },
      "execution_count": null,
      "outputs": []
    },
    {
      "cell_type": "code",
      "source": [
        "model = Sequential([\n",
        "    Input(shape = input_shape),\n",
        "    LSTM(units = 64),\n",
        "    Dense(units = 256, activation = 'relu' ),\n",
        "    Dense(units = 1 , activation = 'relu')\n",
        "])\n",
        "model.compile(optimizer='adam', loss='mse')"
      ],
      "metadata": {
        "id": "Tr-VLfYv_EWV"
      },
      "execution_count": null,
      "outputs": []
    },
    {
      "cell_type": "code",
      "source": [
        "history = model.fit(X_train, y_train, epochs=20, batch_size=32, validation_data=(X_test, y_test))"
      ],
      "metadata": {
        "id": "f2FeVwgzASCm"
      },
      "execution_count": null,
      "outputs": []
    },
    {
      "cell_type": "code",
      "source": [
        "y_pred = model.predict(X_test)"
      ],
      "metadata": {
        "id": "GJiF9i_hCyO_"
      },
      "execution_count": null,
      "outputs": []
    },
    {
      "cell_type": "code",
      "source": [
        "plt.plot(y_pred, label=\"Predicted\")\n",
        "plt.plot(y_test, label=\"Actual\")\n",
        "plt.legend()\n",
        "plt.show()"
      ],
      "metadata": {
        "id": "CjjlUJ0EC505"
      },
      "execution_count": null,
      "outputs": []
    }
  ]
}