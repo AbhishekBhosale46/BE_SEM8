{
  "nbformat": 4,
  "nbformat_minor": 0,
  "metadata": {
    "colab": {
      "provenance": []
    },
    "kernelspec": {
      "name": "python3",
      "display_name": "Python 3"
    },
    "language_info": {
      "name": "python"
    }
  },
  "cells": [
    {
      "cell_type": "code",
      "execution_count": null,
      "metadata": {
        "id": "z6GwF4VUqIGh"
      },
      "outputs": [],
      "source": [
        "import pandas as pd\n",
        "import numpy as np\n",
        "from sklearn.model_selection import train_test_split\n",
        "from sklearn.preprocessing import LabelEncoder, StandardScaler\n",
        "from sklearn.metrics import classification_report, accuracy_score\n",
        "import tensorflow as tf\n",
        "from tensorflow.keras import layers, models\n",
        "from tensorflow.keras.utils import to_categorical"
      ]
    },
    {
      "cell_type": "code",
      "source": [
        "column_names = [\n",
        "    'letter', 'x-box', 'y-box', 'width', 'high', 'onpix', 'x-bar', 'y-bar',\n",
        "    'x2bar', 'y2bar', 'xybar', 'x2ybr', 'xy2br', 'x-ege', 'xegvy', 'y-ege', 'yegvx'\n",
        "]\n",
        "df = pd.read_csv(\"/content/drive/MyDrive/DL_Datasets/Assignment_2/multi_class_classification/letter-recognition.data\", header=None, names=column_names)\n",
        "df.head()"
      ],
      "metadata": {
        "id": "eGrbP0dl0KhL"
      },
      "execution_count": null,
      "outputs": []
    },
    {
      "cell_type": "code",
      "source": [
        "# Encode labels (A-Z) into integers 0-25\n",
        "le = LabelEncoder()\n",
        "df['letter'] = le.fit_transform(df['letter'])"
      ],
      "metadata": {
        "id": "ubiOLH0r1rxW"
      },
      "execution_count": null,
      "outputs": []
    },
    {
      "cell_type": "code",
      "source": [
        "# Split features and target\n",
        "X = df.drop('letter', axis=1)\n",
        "y = df['letter']"
      ],
      "metadata": {
        "id": "kR-r7Yya14cH"
      },
      "execution_count": null,
      "outputs": []
    },
    {
      "cell_type": "code",
      "source": [
        "# Standardize features\n",
        "scaler = StandardScaler()\n",
        "X = scaler.fit_transform(X)"
      ],
      "metadata": {
        "id": "P2aAmPj82Y80"
      },
      "execution_count": null,
      "outputs": []
    },
    {
      "cell_type": "code",
      "source": [
        "# One-hot encode target labels\n",
        "y = to_categorical(y)"
      ],
      "metadata": {
        "id": "kH1QKVzF2bVh"
      },
      "execution_count": null,
      "outputs": []
    },
    {
      "cell_type": "code",
      "source": [
        "X_train, X_test, y_train, y_test = train_test_split(X, y, test_size=0.2, random_state=42)"
      ],
      "metadata": {
        "id": "8CcL9HUy2mY4"
      },
      "execution_count": null,
      "outputs": []
    },
    {
      "cell_type": "code",
      "source": [
        "model = models.Sequential([\n",
        "    layers.Dense(128, activation='relu', input_shape=(16,)),\n",
        "    layers.Dropout(0.3),\n",
        "    layers.Dense(64, activation='relu'),\n",
        "    layers.Dropout(0.3),\n",
        "    layers.Dense(26, activation='softmax')\n",
        "])"
      ],
      "metadata": {
        "id": "lYosN1LK2o5P"
      },
      "execution_count": null,
      "outputs": []
    },
    {
      "cell_type": "code",
      "source": [
        "model.compile(optimizer='adam', loss='categorical_crossentropy', metrics=['accuracy'])"
      ],
      "metadata": {
        "id": "hmKn2tZT3Taw"
      },
      "execution_count": null,
      "outputs": []
    },
    {
      "cell_type": "code",
      "source": [
        "# Train the model\n",
        "history = model.fit(X_train, y_train, epochs=20, batch_size=32, validation_split=0.1)"
      ],
      "metadata": {
        "id": "Y5SK1Jy83i2e"
      },
      "execution_count": null,
      "outputs": []
    },
    {
      "cell_type": "code",
      "source": [
        "loss, acc = model.evaluate(X_test, y_test)\n",
        "print(loss)\n",
        "print(acc)"
      ],
      "metadata": {
        "id": "-Ms6WjOb3xfV"
      },
      "execution_count": null,
      "outputs": []
    },
    {
      "cell_type": "code",
      "source": [
        "# Predict and decode a few samples\n",
        "predictions = model.predict(X_test[1:5])\n",
        "predicted_classes = le.inverse_transform(np.argmax(predictions, axis=1))\n",
        "true_classes = le.inverse_transform(np.argmax(y_test[1:5], axis=1))\n",
        "print(\"Predicted:\", predicted_classes)\n",
        "print(\"True:\", true_classes)"
      ],
      "metadata": {
        "id": "UwHFGwOq3-2L"
      },
      "execution_count": null,
      "outputs": []
    }
  ]
}